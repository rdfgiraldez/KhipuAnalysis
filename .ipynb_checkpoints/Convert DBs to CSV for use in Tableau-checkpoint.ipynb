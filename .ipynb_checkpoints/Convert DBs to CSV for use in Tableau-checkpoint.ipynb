{
 "cells": [
  {
   "cell_type": "markdown",
   "id": "8b79609a",
   "metadata": {},
   "source": [
    "# Convert DB to CSV tables for use in Tableau"
   ]
  },
  {
   "cell_type": "code",
   "execution_count": 2,
   "id": "0e4fe45e",
   "metadata": {},
   "outputs": [],
   "source": [
    "import pandas as pd\n",
    "import sqlite3\n",
    "import numpy as np\n",
    "\n",
    "con = sqlite3.connect(\"collca.db\")\n",
    "cur = con.cursor()\n",
    "con2 = sqlite3.connect('RobynDatabase.db')\n",
    "cur2 = con2.cursor()\n",
    "\n"
   ]
  },
  {
   "cell_type": "code",
   "execution_count": 23,
   "id": "8e71ba2d",
   "metadata": {},
   "outputs": [
    {
     "name": "stdout",
     "output_type": "stream",
     "text": [
      "['CN' '' 'V' 'W' 'H' 'AH' 'CL' 'CC' None]\n",
      "['CN' 'U' 'V' 'W' 'H' 'AH' 'CL' 'CC']\n"
     ]
    }
   ],
   "source": [
    "tables = ['khipu_main','beginning_dc','ascher_cord_color','ascher_color_dc',\n",
    "         'cord','knot','knot_cluster','knot_type_dc','primary_cord','structure_dc','termination_dc']\n",
    "\n",
    "def ReplaceNull(df, col, nullValue):\n",
    "    df[col].fillna(value=nullValue,inplace=True)\n",
    "    df[col] = df[col].replace('',nullValue)\n",
    "    \n",
    "\n",
    "for t in tables:\n",
    "    df = pd.read_sql_query('select * from '+t,con)\n",
    "    \n",
    "    #data clean if necessary\n",
    "    if t == 'cord':\n",
    "        print(df.FIBER.unique())\n",
    "        ReplaceNull(df,'FIBER','U')\n",
    "        print(df.FIBER.unique())\n",
    "        ReplaceNull(df,'TERMINATION','R')\n",
    "        ReplaceNull(df,'ATTACHMENT_TYPE','U')\n",
    "        ReplaceNull(df,'TWIST','U')\n",
    "        \n",
    "    elif t == 'knot':\n",
    "        ReplaceNull(df,'DIRECTION','U')\n",
    "    elif t == 'primary_cord':\n",
    "        ReplaceNull(df,'STRUCTURE','Null')\n",
    "        ReplaceNull(df,'FIBER','U')\n",
    "        ReplaceNull(df,'TERMINATION','R')\n",
    "        ReplaceNull(df,'TWIST','U')\n",
    "        \n",
    "        \n",
    "    \n",
    "    df.to_csv(t+'.csv', index=False)\n",
    "\n"
   ]
  },
  {
   "cell_type": "code",
   "execution_count": 24,
   "id": "8046af95",
   "metadata": {},
   "outputs": [],
   "source": [
    "#fiber_dc\n",
    "data = [['CN','cotton'],['CL','camelid'],['AH','animal hair'],['CC','cotton & camelid'],['W',\"sheep's wool\"],\n",
    "        ['H','human hair'],['V','vegetal fiber, undetermined'],['U','unknown, unlisted']]\n",
    "#'V' is unknown\n",
    "\n",
    "df = pd.DataFrame(data, columns = ['fiber_cd', 'fiber_descr'])\n",
    "df.to_csv('fiber_dc.csv')\n",
    "\n",
    "#ATTACHMENT_DC\n",
    "data = [['R','recto'],['V','verso'],['U','unknown, unlisted']]\n",
    "#'V' is unknown\n",
    "\n",
    "df = pd.DataFrame(data, columns = ['attachment_cd', 'attachment_descr'])\n",
    "df.to_csv('attachment_dc.csv')"
   ]
  }
 ],
 "metadata": {
  "kernelspec": {
   "display_name": "Python 3",
   "language": "python",
   "name": "python3"
  },
  "language_info": {
   "codemirror_mode": {
    "name": "ipython",
    "version": 3
   },
   "file_extension": ".py",
   "mimetype": "text/x-python",
   "name": "python",
   "nbconvert_exporter": "python",
   "pygments_lexer": "ipython3",
   "version": "3.8.8"
  }
 },
 "nbformat": 4,
 "nbformat_minor": 5
}
